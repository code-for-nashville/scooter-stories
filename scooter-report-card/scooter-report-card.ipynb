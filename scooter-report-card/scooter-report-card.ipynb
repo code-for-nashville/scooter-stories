{
 "cells": [
  {
   "cell_type": "code",
   "execution_count": 27,
   "metadata": {},
   "outputs": [],
   "source": [
    "import pandas as pd\n",
    "import numpy as np\n",
    "\n",
    "# \n",
    "# assign the path of the code-for-nashville open data portal on githup to a variable\n",
    "# \n",
    "dataPath = 'https://raw.githubusercontent.com/code-for-nashville/open-data-portal/feature/scooter-2019-08-clean-up/nashville/scooter-data/'\n",
    "# dataPath = 'https://raw.githubusercontent.com/code-for-nashville/open-data-portal/feature/scooter-extract/nashville/scooter-data/'\n",
    "\n",
    "# \n",
    "# Make a list of all the files to download from the open data portal\n",
    "# currently files for July 22 through August 5 are available\n",
    "# \n",
    "fileNames = ['scooter_extract_2019-07-'+str(x)+'.csv' for x in range(22,32)]\n",
    "fileNames = fileNames + ['scooter_extract_2019-08-0'+str(x)+'.csv' for x in range(1,6)]\n",
    "# fileNames = ['scooter_extract_2019-07-20_to_2019-09-09.csv']\n",
    "\n",
    "\n",
    "# \n",
    "# make a list of the columns for the facts table\n",
    "# \n",
    "factColumns = ['availability_duration', 'availability_duration_seconds',\n",
    "       'availability_start_date', 'availability_start_date_cst',\n",
    "       'availability_start_time', 'availability_start_time_cst',\n",
    "       'company_name', 'extract_date_cst',\n",
    "       'extract_date_utc', 'extract_time_cst', 'extract_time_utc',\n",
    "       'gps_latitude', 'gps_longitude', 'real_time_fare',\n",
    "       'sumd_id']\n",
    "\n",
    "# \n",
    "# make a list of the columns for the company dimension table and sumd dimension table\n",
    "# \n",
    "companyColumns = ['company_name', 'company_phone', 'company_website']\n",
    "sumdColumns = ['company_name', 'sumd_group', 'sumd_id', 'sumd_type']"
   ]
  },
  {
   "cell_type": "code",
   "execution_count": null,
   "metadata": {},
   "outputs": [],
   "source": [
    "%%time\n",
    "# \n",
    "# load all the data files into a single dataframe\n",
    "# this take approximately 8 minutes to load these files\n",
    "# \n",
    "rawData = pd.concat([pd.read_csv(dataPath+f) for f in fileNames], sort = False)"
   ]
  },
  {
   "cell_type": "code",
   "execution_count": null,
   "metadata": {},
   "outputs": [],
   "source": [
    "%%time\n",
    "# \n",
    "# create fact and dimension tables\n",
    "# \n",
    "rawData['company_name'] = [x.upper() for x in rawData['company_name']]\n",
    "rawData['sumd_group'] = [x.upper() for x in rawData['sumd_group']]\n",
    "company = rawData[companyColumns].drop_duplicates()\n",
    "sumd = rawData[sumdColumns].drop_duplicates()\n",
    "sumd = sumd[sumd['sumd_group']=='SCOOTER']\n",
    "scooterFacts = rawData[rawData['sumd_group']=='SCOOTER']\n",
    "scooterFacts = scooterFacts[factColumns]"
   ]
  },
  {
   "cell_type": "code",
   "execution_count": null,
   "metadata": {},
   "outputs": [],
   "source": [
    "# \n",
    "# Create two new columns with the latitude and longitdue rounded to 3 places\n",
    "# Using this rounded location, will allow for scooters within about 350 ft of each other\n",
    "# to appear in the same location, thus minimizing the number of unique locations.\n",
    "# \n",
    "scooterFacts['latitude_rnd'] = round(scooterFacts['gps_latitude'], 3)\n",
    "scooterFacts['longitude_rnd'] = round(scooterFacts['gps_longitude'], 3)"
   ]
  },
  {
   "cell_type": "code",
   "execution_count": null,
   "metadata": {},
   "outputs": [],
   "source": [
    "# \n",
    "# How many scooters does each company have in Nashville?\n",
    "# \n",
    "companyStats = sumd[['company_name', 'sumd_id']] \\\n",
    "                .groupby('company_name').count() \\\n",
    "                .reset_index() \\\n",
    "                .rename(columns={'company_name': 'Company', 'sumd_id': 'Number Of Scooters'})\n",
    "\n",
    "companyStats"
   ]
  },
  {
   "cell_type": "code",
   "execution_count": null,
   "metadata": {},
   "outputs": [],
   "source": [
    "# \n",
    "# What are the 25 most popular scooters?\n",
    "# The table below shows the 25 scooters that were reported in the most locations in a day.\n",
    "# the numbers under the 'latitude_rnd' and 'longitude_rnd' columns represent the average number\n",
    "# of locations on each day in the dataset.\n",
    "# \n",
    "numOfLocsPerDay = scooterFacts[['availability_start_date_cst', 'latitude_rnd', 'longitude_rnd', 'sumd_id']] \\\n",
    "                    .drop_duplicates() \\\n",
    "                    .groupby(['sumd_id', 'availability_start_date_cst']).count() - 1\n",
    "\n",
    "avgLocsPerDay = numOfLocsPerDay.groupby('sumd_id').mean()\n",
    "\n",
    "totLocs = numOfLocsPerDay.groupby('sumd_id').sum()\n",
    "\n",
    "twtyfiveMostMovedScooters = avgLocsPerDay \\\n",
    "                            .sort_values(by='latitude_rnd', ascending = False) \\\n",
    "                            .head(25) \\\n",
    "                            .merge(sumd[['company_name', 'sumd_id']], on='sumd_id')\n",
    "twtyfiveMostMovedScooters"
   ]
  },
  {
   "cell_type": "code",
   "execution_count": null,
   "metadata": {},
   "outputs": [],
   "source": [
    "companyStats = companyStats.merge( \\\n",
    "                                  totLocs[totLocs['latitude_rnd'] == 0] \\\n",
    "                                    .merge(sumd[['company_name', 'sumd_id']], on='sumd_id') \\\n",
    "                                    .groupby('company_name') \\\n",
    "                                    .count() \\\n",
    "                                    .reset_index()[['company_name', 'sumd_id']] \\\n",
    "                                    .rename(columns={'company_name': 'Company', 'sumd_id': 'Scooters Not Ridden'}) \\\n",
    "                                    ,on='Company')"
   ]
  },
  {
   "cell_type": "code",
   "execution_count": null,
   "metadata": {},
   "outputs": [],
   "source": [
    "companyStats['Active Scooters'] = companyStats['Number Of Scooters'] - companyStats['Scooters Not Ridden']"
   ]
  },
  {
   "cell_type": "code",
   "execution_count": null,
   "metadata": {},
   "outputs": [],
   "source": [
    "companyStats"
   ]
  },
  {
   "cell_type": "code",
   "execution_count": null,
   "metadata": {},
   "outputs": [],
   "source": [
    "# \n",
    "# Calculate the total number of rides per company\n",
    "# over all of the days in the dataset (15 days)\n",
    "# \n",
    "companyStats = totLocs \\\n",
    "                .merge(sumd[['company_name', 'sumd_id']], on='sumd_id') \\\n",
    "                .groupby('company_name') \\\n",
    "                .sum() \\\n",
    "                .reset_index()[['company_name', 'latitude_rnd']] \\\n",
    "                .rename(columns={'company_name': 'Company', 'latitude_rnd': 'Total Rides'}) \\\n",
    "                .merge(companyStats, on='Company') \\\n",
    "                .sort_values(by=['Total Rides'], ascending = False)\n",
    "\n",
    "companyStats = companyStats \\\n",
    "                .append(pd.Series(['TOTAL'], index=['Company']).append(companyStats.sum(numeric_only = True)), \\\n",
    "                        ignore_index = True)\n",
    "\n",
    "companyStats['Avg Rides Per Active Scooter'] = companyStats['Total Rides'] / companyStats['Active Scooters']"
   ]
  },
  {
   "cell_type": "code",
   "execution_count": null,
   "metadata": {},
   "outputs": [],
   "source": [
    "columnFormats = {'Total Rides': '{:,d}',\n",
    "                 'Number Of Scooters': '{:,d}',\n",
    "                 'Scooters Not Ridden': '{:,d}',\n",
    "                 'Active Scooters': '{:,d}',\n",
    "                 'Avg Rides Per Active Scooter': '{:.2f}'}\n",
    "\n",
    "companyStats.style.format(columnFormats)"
   ]
  },
  {
   "cell_type": "code",
   "execution_count": null,
   "metadata": {},
   "outputs": [],
   "source": []
  }
 ],
 "metadata": {
  "kernelspec": {
   "display_name": "Python 3",
   "language": "python",
   "name": "python3"
  },
  "language_info": {
   "codemirror_mode": {
    "name": "ipython",
    "version": 3
   },
   "file_extension": ".py",
   "mimetype": "text/x-python",
   "name": "python",
   "nbconvert_exporter": "python",
   "pygments_lexer": "ipython3",
   "version": "3.7.4"
  }
 },
 "nbformat": 4,
 "nbformat_minor": 2
}
